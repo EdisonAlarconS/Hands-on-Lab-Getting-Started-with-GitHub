{
 "cells": [
  {
   "cell_type": "markdown",
   "id": "3e595b5b-d32c-4a74-a71c-a2c557f08bcb",
   "metadata": {},
   "source": [
    "# Data Science Tools and Ecosystem"
   ]
  },
  {
   "cell_type": "markdown",
   "id": "0d31b1b6-5f8a-4ada-8f25-1960e618c213",
   "metadata": {},
   "source": [
    "Some of the popular languages that Data Scientists use are:"
   ]
  },
  {
   "cell_type": "markdown",
   "id": "fc1e660e-5264-4c7c-af4c-ddd0c58fac2f",
   "metadata": {},
   "source": [
    "- phyton\n",
    "- R\n",
    "- SQL\n",
    "- Java\n",
    "- Julia\n",
    "- Scala\n",
    "- C/C++\n",
    "- JavaScript\n",
    "- Swift\n",
    "- Go\n",
    "- MATLAB\n",
    "- SAS"
   ]
  },
  {
   "cell_type": "markdown",
   "id": "e60990a4-9008-45f4-9964-d05a660d3bfa",
   "metadata": {},
   "source": [
    "Some of the commonly used libraries used by Data Scientists include:"
   ]
  },
  {
   "cell_type": "markdown",
   "id": "a8e31fc6-e55b-46a2-8eda-7707f952c11e",
   "metadata": {},
   "source": [
    "- NumPy.\n",
    "- Pandas.\n",
    "- Scipy.\n",
    "- Scikit-learn.\n",
    "- Matplotlib\n",
    "- Seaborn.\n",
    "- TensorFlow\n",
    "- PyTorch\n",
    "- Keras\n",
    "- NLTK"
   ]
  },
  {
   "cell_type": "markdown",
   "id": "2c71209b-cfcf-4cda-801e-4fa8cbaafac6",
   "metadata": {},
   "source": [
    "**Objectives:**\n",
    "1. Create a Jupyter Notebook.\n",
    "2. Insert code and markdown cells.\n",
    "3. Share your notebook through GitHub"
   ]
  },
  {
   "cell_type": "markdown",
   "id": "ffb74d02-e3c8-4983-9c0a-fa3a14670368",
   "metadata": {},
   "source": [
    "Data Science Tools"
   ]
  },
  {
   "cell_type": "markdown",
   "id": "f74c07ee-1b72-43f3-9561-6c89497e4b4f",
   "metadata": {},
   "source": [
    "|Type of Data Science tool| Data Science Tools |\n",
    "|-------------------------| --------------------|\n",
    "|General-purpose Tools| MS Excel |\n",
    "|Cloud-based Tools|  BigML, Google Analytics |\n",
    "|Multipurpose Tools| Apache, Spark, Matlab, SAS, KNIME, Apache, Flink |\n",
    "|Programming Language-driven Tools| Python,R Programming, Jupyter, Notebook, MongoDB, D3.js, Julia |\n",
    "|Visualization Tools| Tableau, Matplotlib, Minitab |\n",
    "|Machine Learning and NLP Tools | Scikit Learn, TensorFlow, RapidMiner, DataRobot, NLTK |\n",
    "|Visualization Tools | Tableau, Matplotlib, Minitab |\n",
    "|Machine Learning and NLP Tools| Scikit Learn, TensorFlow, RapidMiner, DataRobot, NLTK |\n",
    "|Big Data Tools| Apache Hadoop |\n",
    "|Business Intelligence Tool| Microsoft Power BI, QlikView|\n"
   ]
  },
  {
   "cell_type": "markdown",
   "id": "0fcd562f-f7bc-466f-84ae-9e575a4443d8",
   "metadata": {},
   "source": [
    "### Below are a few examples of evaluating arithmetic expressions in Python"
   ]
  },
  {
   "cell_type": "code",
   "execution_count": 4,
   "id": "519c49ef-65b1-46fb-b83c-97831e736272",
   "metadata": {},
   "outputs": [
    {
     "name": "stdout",
     "output_type": "stream",
     "text": [
      "5 + 3 = 8\n",
      "10 - 4 = 6\n",
      "7 * 6 = 42\n",
      "8 / 2 = 4.0\n",
      "2 ** 3 = 8\n",
      "sqrt(16) = 4.0\n",
      "abs(-7) = 7\n"
     ]
    }
   ],
   "source": [
    "# Addition\n",
    "result_add = 5 + 3\n",
    "print(\"5 + 3 =\", result_add)\n",
    "\n",
    "# Subtraction\n",
    "result_sub = 10 - 4\n",
    "print(\"10 - 4 =\", result_sub)\n",
    "\n",
    "# Multiplication\n",
    "result_mul = 7 * 6\n",
    "print(\"7 * 6 =\", result_mul)\n",
    "\n",
    "# Division\n",
    "result_div = 8 / 2\n",
    "print(\"8 / 2 =\", result_div)\n",
    "\n",
    "import math\n",
    "\n",
    "# Exponentiation\n",
    "result_exp = 2 ** 3\n",
    "print(\"2 ** 3 =\", result_exp)\n",
    "\n",
    "# Square root\n",
    "result_sqrt = math.sqrt(16)\n",
    "print(\"sqrt(16) =\", result_sqrt)\n",
    "\n",
    "# Absolute value\n",
    "result_abs = abs(-7)\n",
    "print(\"abs(-7) =\", result_abs)"
   ]
  },
  {
   "cell_type": "code",
   "execution_count": 15,
   "id": "b2492311-69ee-454f-9e04-acf4a9334b2a",
   "metadata": {},
   "outputs": [
    {
     "name": "stdout",
     "output_type": "stream",
     "text": [
      "(3*4)+5 = 17\n"
     ]
    }
   ],
   "source": [
    "# This a simple arithmetic expression to multiply then add integers\n",
    "SimpleArith = (3*4)+5\n",
    "print(\"(3*4)+5 =\", SimpleArith)"
   ]
  },
  {
   "cell_type": "code",
   "execution_count": 18,
   "id": "cf1f5f17-9b72-4c43-8c7a-da11870a7b45",
   "metadata": {},
   "outputs": [
    {
     "name": "stdout",
     "output_type": "stream",
     "text": [
      "200 minutes are 3.3333333333333335 hours\n"
     ]
    }
   ],
   "source": [
    "# his will convert 200 minutes to hours by diving by 60\n",
    "Thousand_minutes_to_hours = 200 / 60\n",
    "print (\"200 minutes are\", Thousand_minutes_to_hours , \"hours\")"
   ]
  },
  {
   "cell_type": "markdown",
   "id": "638ac09d-8258-4cb2-b9d6-67a9d269d483",
   "metadata": {},
   "source": [
    "## Edison Alarcón Suesca\n",
    "Author"
   ]
  },
  {
   "cell_type": "code",
   "execution_count": null,
   "id": "6cf1a070-1c48-4d65-ba92-678ace9c42f5",
   "metadata": {},
   "outputs": [],
   "source": []
  }
 ],
 "metadata": {
  "kernelspec": {
   "display_name": "Python 3 (ipykernel)",
   "language": "python",
   "name": "python3"
  },
  "language_info": {
   "codemirror_mode": {
    "name": "ipython",
    "version": 3
   },
   "file_extension": ".py",
   "mimetype": "text/x-python",
   "name": "python",
   "nbconvert_exporter": "python",
   "pygments_lexer": "ipython3",
   "version": "3.11.9"
  }
 },
 "nbformat": 4,
 "nbformat_minor": 5
}
